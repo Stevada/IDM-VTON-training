{
 "cells": [
  {
   "cell_type": "code",
   "execution_count": 7,
   "metadata": {},
   "outputs": [
    {
     "data": {
      "text/plain": [
       "tensor([[0.3367, 0.1288],\n",
       "        [0.2345, 0.2303]])"
      ]
     },
     "execution_count": 7,
     "metadata": {},
     "output_type": "execute_result"
    }
   ],
   "source": [
    "import torch\n",
    "\n",
    "# Create a generator and set the seed\n",
    "generator = torch.Generator().manual_seed(42)\n",
    "\n",
    "# Use the generator in a random operation\n",
    "random_tensor = torch.randn((2, 2), generator=generator)\n",
    "random_tensor"
   ]
  },
  {
   "cell_type": "code",
   "execution_count": 8,
   "metadata": {},
   "outputs": [
    {
     "data": {
      "text/plain": [
       "tensor([[-1.1229, -0.1863],\n",
       "        [ 2.2082, -0.6380]])"
      ]
     },
     "execution_count": 8,
     "metadata": {},
     "output_type": "execute_result"
    }
   ],
   "source": [
    "# Use the generator in a random operation\n",
    "random_tensor = torch.randn((2, 2), generator=generator)\n",
    "random_tensor"
   ]
  },
  {
   "cell_type": "code",
   "execution_count": 10,
   "metadata": {},
   "outputs": [
    {
     "name": "stdout",
     "output_type": "stream",
     "text": [
      "tensor([0.5782])\n",
      "tensor([0.0600])\n",
      "tensor([0.2846])\n",
      "tensor([0.2007])\n",
      "tensor([0.5014])\n"
     ]
    }
   ],
   "source": [
    "for i in range(5):\n",
    "    rand = torch.rand((1, ), generator=generator)\n",
    "    print(rand)"
   ]
  },
  {
   "cell_type": "code",
   "execution_count": 21,
   "metadata": {},
   "outputs": [
    {
     "name": "stdout",
     "output_type": "stream",
     "text": [
      "0.697, 0.303\n"
     ]
    }
   ],
   "source": [
    "weights = torch.tensor([0, 7, 3, 0], dtype=torch.float) # create a tensor of weights\n",
    "result = torch.multinomial(weights, 1000, replacement=True)\n",
    "x1 = len([x for x in result if x == 1])\n",
    "x2 = len([x for x in result if x == 2])\n",
    "print(f\"{x1/(x1+x2)}, {x2/(x1+x2)}\")"
   ]
  }
 ],
 "metadata": {
  "kernelspec": {
   "display_name": "groot",
   "language": "python",
   "name": "python3"
  },
  "language_info": {
   "codemirror_mode": {
    "name": "ipython",
    "version": 3
   },
   "file_extension": ".py",
   "mimetype": "text/x-python",
   "name": "python",
   "nbconvert_exporter": "python",
   "pygments_lexer": "ipython3",
   "version": "3.10.0"
  }
 },
 "nbformat": 4,
 "nbformat_minor": 2
}
